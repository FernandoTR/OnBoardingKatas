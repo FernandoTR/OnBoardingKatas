{
 "cells": [
  {
   "cell_type": "markdown",
   "metadata": {},
   "source": [
    "# Kata del módulo 3"
   ]
  },
  {
   "cell_type": "markdown",
   "metadata": {},
   "source": [
    "Problema No.1"
   ]
  },
  {
   "cell_type": "code",
   "execution_count": null,
   "metadata": {},
   "outputs": [],
   "source": [
    "asteroide = 26\n",
    "if asteroide > 25:\n",
    "    print('Corree!!!')\n",
    "else:\n",
    "    print('No pasa nada')"
   ]
  },
  {
   "cell_type": "markdown",
   "metadata": {},
   "source": [
    "Problema No.2"
   ]
  },
  {
   "cell_type": "code",
   "execution_count": null,
   "metadata": {},
   "outputs": [],
   "source": [
    "asteroide = 12\n",
    "if asteroide > 20:\n",
    "    print('Hay luz')\n",
    "elif asteroide == 20:\n",
    "    print('Hay luz')\n",
    "else:\n",
    "    print('No hay luz')"
   ]
  },
  {
   "cell_type": "markdown",
   "metadata": {},
   "source": [
    "Problema No.3"
   ]
  },
  {
   "cell_type": "code",
   "execution_count": null,
   "metadata": {},
   "outputs": [],
   "source": [
    "velocidad= 50\n",
    "tamano = 20\n",
    "if velocidad > 25 and tamano > 25:\n",
    "    print('Correee!')\n",
    "elif velocidad >= 20:\n",
    "    print('Hay luz')\n",
    "elif tamano < 25:\n",
    "    print('No pasa nada')\n",
    "else:\n",
    "    print('No pasa nada')"
   ]
  }
 ],
 "metadata": {
  "interpreter": {
   "hash": "e389e65582abee40c984ac56cb51fda33b99aa63dfa73d6dc68b484418f00cd7"
  },
  "kernelspec": {
   "display_name": "Python 3.10.2 64-bit",
   "language": "python",
   "name": "python3"
  },
  "language_info": {
   "codemirror_mode": {
    "name": "ipython",
    "version": 3
   },
   "file_extension": ".py",
   "mimetype": "text/x-python",
   "name": "python",
   "nbconvert_exporter": "python",
   "pygments_lexer": "ipython3",
   "version": "3.10.2"
  },
  "orig_nbformat": 4
 },
 "nbformat": 4,
 "nbformat_minor": 2
}
